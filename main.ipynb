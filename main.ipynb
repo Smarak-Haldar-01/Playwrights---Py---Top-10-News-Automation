{
 "cells": [
  {
   "cell_type": "code",
   "id": "initial_id",
   "metadata": {
    "collapsed": true,
    "ExecuteTime": {
     "end_time": "2025-06-05T06:32:56.304547Z",
     "start_time": "2025-06-05T06:32:55.699355Z"
    }
   },
   "source": "!playwright install",
   "outputs": [],
   "execution_count": 12
  },
  {
   "metadata": {
    "ExecuteTime": {
     "end_time": "2025-06-05T06:32:54.527274Z",
     "start_time": "2025-06-05T06:32:45.716250Z"
    }
   },
   "cell_type": "code",
   "source": "!playwright --version",
   "id": "185f4c0fb7337262",
   "outputs": [
    {
     "name": "stdout",
     "output_type": "stream",
     "text": [
      "Version 1.52.0\n"
     ]
    }
   ],
   "execution_count": 11
  },
  {
   "metadata": {
    "ExecuteTime": {
     "end_time": "2025-06-05T06:30:01.828169Z",
     "start_time": "2025-06-05T06:29:55.349310Z"
    }
   },
   "cell_type": "code",
   "source": "!pip install playwright",
   "id": "d94f96436a5048c4",
   "outputs": [
    {
     "name": "stdout",
     "output_type": "stream",
     "text": [
      "Collecting playwright\n",
      "  Using cached playwright-1.52.0-py3-none-win_amd64.whl.metadata (3.5 kB)\n",
      "Collecting pyee<14,>=13 (from playwright)\n",
      "  Using cached pyee-13.0.0-py3-none-any.whl.metadata (2.9 kB)\n",
      "Collecting greenlet<4.0.0,>=3.1.1 (from playwright)\n",
      "  Using cached greenlet-3.2.2-cp313-cp313-win_amd64.whl.metadata (4.2 kB)\n",
      "Requirement already satisfied: typing-extensions in c:\\users\\hp\\pycharmmiscproject\\.venv\\lib\\site-packages (from pyee<14,>=13->playwright) (4.13.2)\n",
      "Using cached playwright-1.52.0-py3-none-win_amd64.whl (34.8 MB)\n",
      "Using cached greenlet-3.2.2-cp313-cp313-win_amd64.whl (296 kB)\n",
      "Using cached pyee-13.0.0-py3-none-any.whl (15 kB)\n",
      "Installing collected packages: pyee, greenlet, playwright\n",
      "Successfully installed greenlet-3.2.2 playwright-1.52.0 pyee-13.0.0\n"
     ]
    },
    {
     "name": "stderr",
     "output_type": "stream",
     "text": [
      "\n",
      "[notice] A new release of pip is available: 25.0.1 -> 25.1.1\n",
      "[notice] To update, run: python.exe -m pip install --upgrade pip\n"
     ]
    }
   ],
   "execution_count": 6
  },
  {
   "metadata": {
    "ExecuteTime": {
     "end_time": "2025-06-05T07:32:22.401135Z",
     "start_time": "2025-06-05T07:31:44.204873Z"
    }
   },
   "cell_type": "code",
   "source": "!pip install pandas",
   "id": "eb489dce957927a9",
   "outputs": [
    {
     "name": "stdout",
     "output_type": "stream",
     "text": [
      "Collecting pandas\n",
      "  Downloading pandas-2.3.0-cp313-cp313-win_amd64.whl.metadata (19 kB)\n",
      "Requirement already satisfied: numpy>=1.26.0 in c:\\users\\hp\\pycharmmiscproject\\.venv\\lib\\site-packages (from pandas) (2.2.6)\n",
      "Requirement already satisfied: python-dateutil>=2.8.2 in c:\\users\\hp\\pycharmmiscproject\\.venv\\lib\\site-packages (from pandas) (2.9.0.post0)\n",
      "Collecting pytz>=2020.1 (from pandas)\n",
      "  Downloading pytz-2025.2-py2.py3-none-any.whl.metadata (22 kB)\n",
      "Collecting tzdata>=2022.7 (from pandas)\n",
      "  Downloading tzdata-2025.2-py2.py3-none-any.whl.metadata (1.4 kB)\n",
      "Requirement already satisfied: six>=1.5 in c:\\users\\hp\\pycharmmiscproject\\.venv\\lib\\site-packages (from python-dateutil>=2.8.2->pandas) (1.17.0)\n",
      "Downloading pandas-2.3.0-cp313-cp313-win_amd64.whl (11.0 MB)\n",
      "   ---------------------------------------- 0.0/11.0 MB ? eta -:--:--\n",
      "   - -------------------------------------- 0.5/11.0 MB 5.6 MB/s eta 0:00:02\n",
      "   ------- -------------------------------- 2.1/11.0 MB 6.8 MB/s eta 0:00:02\n",
      "   ------------- -------------------------- 3.7/11.0 MB 6.9 MB/s eta 0:00:02\n",
      "   ------------------ --------------------- 5.0/11.0 MB 6.9 MB/s eta 0:00:01\n",
      "   --------------------- ------------------ 6.0/11.0 MB 6.6 MB/s eta 0:00:01\n",
      "   ------------------------- -------------- 7.1/11.0 MB 6.3 MB/s eta 0:00:01\n",
      "   ----------------------------- ---------- 8.1/11.0 MB 6.2 MB/s eta 0:00:01\n",
      "   -------------------------------- ------- 8.9/11.0 MB 5.9 MB/s eta 0:00:01\n",
      "   ----------------------------------- ---- 9.7/11.0 MB 5.6 MB/s eta 0:00:01\n",
      "   -------------------------------------- - 10.5/11.0 MB 5.4 MB/s eta 0:00:01\n",
      "   ---------------------------------------- 11.0/11.0 MB 5.3 MB/s eta 0:00:00\n",
      "Downloading pytz-2025.2-py2.py3-none-any.whl (509 kB)\n",
      "Downloading tzdata-2025.2-py2.py3-none-any.whl (347 kB)\n",
      "Installing collected packages: pytz, tzdata, pandas\n",
      "Successfully installed pandas-2.3.0 pytz-2025.2 tzdata-2025.2\n"
     ]
    },
    {
     "name": "stderr",
     "output_type": "stream",
     "text": [
      "\n",
      "[notice] A new release of pip is available: 25.0.1 -> 25.1.1\n",
      "[notice] To update, run: python.exe -m pip install --upgrade pip\n"
     ]
    }
   ],
   "execution_count": 17
  },
  {
   "metadata": {},
   "cell_type": "code",
   "outputs": [],
   "execution_count": null,
   "source": "",
   "id": "b2cb84154771159e"
  }
 ],
 "metadata": {
  "kernelspec": {
   "display_name": "Python 3",
   "language": "python",
   "name": "python3"
  },
  "language_info": {
   "codemirror_mode": {
    "name": "ipython",
    "version": 2
   },
   "file_extension": ".py",
   "mimetype": "text/x-python",
   "name": "python",
   "nbconvert_exporter": "python",
   "pygments_lexer": "ipython2",
   "version": "2.7.6"
  }
 },
 "nbformat": 4,
 "nbformat_minor": 5
}
